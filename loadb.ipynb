{
 "cells": [
  {
   "cell_type": "code",
   "execution_count": 21,
   "metadata": {},
   "outputs": [
    {
     "name": "stdout",
     "output_type": "stream",
     "text": [
      "            date_time search_keyword  search_count      job_id  \\\n",
      "0  20Aug2023-22:15:28  data engineer            48  3630480382   \n",
      "1  20Aug2023-22:16:30  data engineer            48  3564443460   \n",
      "2  20Aug2023-22:17:32  data engineer            48  3541740041   \n",
      "3  20Aug2023-22:18:34  data engineer            48  3675150042   \n",
      "4  20Aug2023-22:19:36  data engineer            48  3670503035   \n",
      "\n",
      "                                           job_title company location  \\\n",
      "0          Principal Engineer - Digital Verification     ok1      ok2   \n",
      "1                Expert, Data Engineering (40000062)     NaN      NaN   \n",
      "2  Senior Analyst (Supply Analytics team, Bangkok...     NaN      NaN   \n",
      "3   [Vietnam] - E/E System Design Lead Engineer (EV)     NaN      NaN   \n",
      "4                               Data Design Engineer     NaN      NaN   \n",
      "\n",
      "  update_time applicants job_time job_position company_size company_industry  \\\n",
      "0         ok3        ok4      ok5          ok6          ok7              ok8   \n",
      "1         NaN        NaN      NaN          NaN          NaN              NaN   \n",
      "2         NaN        NaN      NaN          NaN          NaN              NaN   \n",
      "3         NaN        NaN      NaN          NaN          NaN              NaN   \n",
      "4         NaN        NaN      NaN          NaN          NaN              NaN   \n",
      "\n",
      "  job_details  \n",
      "0         ok9  \n",
      "1         NaN  \n",
      "2         NaN  \n",
      "3         NaN  \n",
      "4         NaN  \n",
      "Error: 2003 (HY000): Can't connect to MySQL server on 'localhost:3306' (10061)\n"
     ]
    }
   ],
   "source": [
    "import pandas as pd\n",
    "import mysql.connector as msql\n",
    "from mysql.connector import Error\n",
    "\n",
    "data = pd.read_csv (r'./data/20-Aug-23.csv') # Change file path according to your configuration\n",
    "df = pd.DataFrame(data)\n",
    "\n",
    "print(df.head())\n",
    "\n",
    "try:\n",
    "    conn = msql.connect(host='localhost', \n",
    "                        user='root',  \n",
    "                        password='',\n",
    "                        database='test') # Change host,user according to your configuration\n",
    "    if conn.is_connected():\n",
    "        #date_time,search_keyword,search_count,job_id,job_title,company,location,update_time,applicants,job_time,job_position,company_size,company_industry,job_details\n",
    "        cursor = conn.cursor()\n",
    "        cursor.execute(\"CREATE TABLE IF NOT EXISTS jobs (jobid VARCHAR(255) PRIMARY KEY, searchkeyword VARCHAR(255), searchcount VARCHAR(255), jobtitle VARCHAR(255), company VARCHAR(255), location VARCHAR(255), updatetime VARCHAR(255), applicants VARCHAR(255), jobtime VARCHAR(255), jobposition VARCHAR(255), companysize VARCHAR(255), companyindustry VARCHAR(255), jobdetails VARCHAR(255))\")\n",
    "        print(\"Database is created\")\n",
    "\n",
    "        for row in df.itertuples():\n",
    "            sql = f\"\"\"\n",
    "            INSERT INTO jobs(jobid, searchkeyword, searchcount, jobtitle, company, location, updatetime, applicants, jobtime, jobposition, companysize, companyindustry, jobdetails)\n",
    "            VALUES ('{row[4]}','{row[2]}','{row[3]}','{row[5]}','{row[6]}','{row[7]}','{row[8]}','{row[9]}','{row[10]}','{row[11]}','{row[12]}','{row[13]}', '{row[14]}')\n",
    "            \"\"\"\n",
    "            cursor.execute(sql)\n",
    "            print(\"Record inserted\")\n",
    "            # the connection is not auto committed by default, so we must commit to save our changes\n",
    "            conn.commit()\n",
    "except Error as e:\n",
    "    print(\"Error:\", e)"
   ]
  }
 ],
 "metadata": {
  "kernelspec": {
   "display_name": "Python 3",
   "language": "python",
   "name": "python3"
  },
  "language_info": {
   "codemirror_mode": {
    "name": "ipython",
    "version": 3
   },
   "file_extension": ".py",
   "mimetype": "text/x-python",
   "name": "python",
   "nbconvert_exporter": "python",
   "pygments_lexer": "ipython3",
   "version": "3.10.11"
  },
  "orig_nbformat": 4
 },
 "nbformat": 4,
 "nbformat_minor": 2
}
